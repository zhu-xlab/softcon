{
 "cells": [
  {
   "cell_type": "code",
   "execution_count": 2,
   "metadata": {},
   "outputs": [
    {
     "name": "stdout",
     "output_type": "stream",
     "text": [
      "torch.Size([1, 2048])\n"
     ]
    }
   ],
   "source": [
    "import torch\n",
    "from torchvision.models import resnet50\n",
    "\n",
    "# create RN50 model for multispectral\n",
    "model_r50 = resnet50(pretrained=False)\n",
    "model_r50.conv1 = torch.nn.Conv2d(13, 64, kernel_size=(7, 7), stride=(2, 2), padding=(3, 3), bias=False)\n",
    "model_r50.fc = torch.nn.Identity()\n",
    "\n",
    "# load pretrained weights\n",
    "ckpt_r50 = torch.load('./pretrained/B13_rn50_softcon.pth')\n",
    "model_r50.load_state_dict(ckpt_r50)\n",
    "\n",
    "# encode one image\n",
    "model_r50.eval()\n",
    "img = torch.randn(1, 13, 224, 224)\n",
    "with torch.no_grad():\n",
    "    out = model_r50(img)\n",
    "print(out.shape) # torch.Size([1, 2048])"
   ]
  },
  {
   "cell_type": "code",
   "execution_count": 3,
   "metadata": {},
   "outputs": [
    {
     "name": "stderr",
     "output_type": "stream",
     "text": [
      "/mnt/d/codes/my_final_codes/softcon/models/dinov2/layers/swiglu_ffn.py:51: UserWarning: xFormers is not available (SwiGLU)\n",
      "  warnings.warn(\"xFormers is not available (SwiGLU)\")\n",
      "/mnt/d/codes/my_final_codes/softcon/models/dinov2/layers/attention.py:33: UserWarning: xFormers is not available (Attention)\n",
      "  warnings.warn(\"xFormers is not available (Attention)\")\n",
      "/mnt/d/codes/my_final_codes/softcon/models/dinov2/layers/block.py:40: UserWarning: xFormers is not available (Block)\n",
      "  warnings.warn(\"xFormers is not available (Block)\")\n"
     ]
    },
    {
     "name": "stdout",
     "output_type": "stream",
     "text": [
      "torch.Size([1, 384])\n"
     ]
    }
   ],
   "source": [
    "#import torch\n",
    "from models.dinov2 import vision_transformer as dinov2_vits\n",
    "\n",
    "# create ViT-S/14 model for SAR\n",
    "model_vits14 = dinov2_vits.__dict__['vit_small'](\n",
    "    img_size=224,\n",
    "    patch_size=14,\n",
    "    in_chans=2,\n",
    "    block_chunks=0,\n",
    "    init_values=1e-5,\n",
    "    num_register_tokens=0,\n",
    ")\n",
    "\n",
    "# load pretrained weights\n",
    "ckpt_vits14 = torch.load('./pretrained/B2_vits14_softcon.pth')\n",
    "model_vits14.load_state_dict(ckpt_vits14)\n",
    "\n",
    "# encode one image\n",
    "model_vits14.eval()\n",
    "img = torch.randn(1, 2, 224, 224)\n",
    "with torch.no_grad():\n",
    "    out = model_vits14(img)\n",
    "print(out.shape) # torch.Size([1, 384])"
   ]
  }
 ],
 "metadata": {
  "kernelspec": {
   "display_name": "pytorch",
   "language": "python",
   "name": "python3"
  },
  "language_info": {
   "codemirror_mode": {
    "name": "ipython",
    "version": 3
   },
   "file_extension": ".py",
   "mimetype": "text/x-python",
   "name": "python",
   "nbconvert_exporter": "python",
   "pygments_lexer": "ipython3",
   "version": "3.10.13"
  }
 },
 "nbformat": 4,
 "nbformat_minor": 2
}
